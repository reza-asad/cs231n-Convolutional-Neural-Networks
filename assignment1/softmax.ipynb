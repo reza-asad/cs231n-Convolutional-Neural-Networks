{
 "cells": [
  {
   "cell_type": "markdown",
   "metadata": {},
   "source": [
    "# Softmax exercise\n",
    "\n",
    "*Complete and hand in this completed worksheet (including its outputs and any supporting code outside of the worksheet) with your assignment submission. For more details see the [assignments page](http://vision.stanford.edu/teaching/cs231n/assignments.html) on the course website.*\n",
    "\n",
    "This exercise is analogous to the SVM exercise. You will:\n",
    "\n",
    "- implement a fully-vectorized **loss function** for the Softmax classifier\n",
    "- implement the fully-vectorized expression for its **analytic gradient**\n",
    "- **check your implementation** with numerical gradient\n",
    "- use a validation set to **tune the learning rate and regularization** strength\n",
    "- **optimize** the loss function with **SGD**\n",
    "- **visualize** the final learned weights\n"
   ]
  },
  {
   "cell_type": "code",
   "execution_count": 60,
   "metadata": {
    "collapsed": false
   },
   "outputs": [
    {
     "name": "stdout",
     "output_type": "stream",
     "text": [
      "The autoreload extension is already loaded. To reload it, use:\n",
      "  %reload_ext autoreload\n"
     ]
    }
   ],
   "source": [
    "import random\n",
    "import numpy as np\n",
    "from cs231n.data_utils import load_CIFAR10\n",
    "import matplotlib.pyplot as plt\n",
    "\n",
    "from __future__ import print_function\n",
    "\n",
    "%matplotlib inline\n",
    "plt.rcParams['figure.figsize'] = (10.0, 8.0) # set default size of plots\n",
    "plt.rcParams['image.interpolation'] = 'nearest'\n",
    "plt.rcParams['image.cmap'] = 'gray'\n",
    "\n",
    "# for auto-reloading extenrnal modules\n",
    "# see http://stackoverflow.com/questions/1907993/autoreload-of-modules-in-ipython\n",
    "%load_ext autoreload\n",
    "%autoreload 2"
   ]
  },
  {
   "cell_type": "code",
   "execution_count": 61,
   "metadata": {
    "collapsed": false
   },
   "outputs": [
    {
     "name": "stdout",
     "output_type": "stream",
     "text": [
      "Train data shape:  (49000, 3073)\n",
      "Train labels shape:  (49000,)\n",
      "Validation data shape:  (1000, 3073)\n",
      "Validation labels shape:  (1000,)\n",
      "Test data shape:  (1000, 3073)\n",
      "Test labels shape:  (1000,)\n",
      "dev data shape:  (500, 3073)\n",
      "dev labels shape:  (500,)\n"
     ]
    }
   ],
   "source": [
    "def get_CIFAR10_data(num_training=49000, num_validation=1000, num_test=1000, num_dev=500):\n",
    "    \"\"\"\n",
    "    Load the CIFAR-10 dataset from disk and perform preprocessing to prepare\n",
    "    it for the linear classifier. These are the same steps as we used for the\n",
    "    SVM, but condensed to a single function.  \n",
    "    \"\"\"\n",
    "    # Load the raw CIFAR-10 data\n",
    "    cifar10_dir = 'cs231n/datasets/cifar-10-batches-py'\n",
    "    X_train, y_train, X_test, y_test = load_CIFAR10(cifar10_dir)\n",
    "    \n",
    "    # subsample the data\n",
    "    mask = list(range(num_training, num_training + num_validation))\n",
    "    X_val = X_train[mask]\n",
    "    y_val = y_train[mask]\n",
    "    mask = list(range(num_training))\n",
    "    X_train = X_train[mask]\n",
    "    y_train = y_train[mask]\n",
    "    mask = list(range(num_test))\n",
    "    X_test = X_test[mask]\n",
    "    y_test = y_test[mask]\n",
    "    mask = np.random.choice(num_training, num_dev, replace=False)\n",
    "    X_dev = X_train[mask]\n",
    "    y_dev = y_train[mask]\n",
    "    \n",
    "    # Preprocessing: reshape the image data into rows\n",
    "    X_train = np.reshape(X_train, (X_train.shape[0], -1))\n",
    "    X_val = np.reshape(X_val, (X_val.shape[0], -1))\n",
    "    X_test = np.reshape(X_test, (X_test.shape[0], -1))\n",
    "    X_dev = np.reshape(X_dev, (X_dev.shape[0], -1))\n",
    "    \n",
    "    # Normalize the data: subtract the mean image\n",
    "    mean_image = np.mean(X_train, axis = 0)\n",
    "    X_train -= mean_image\n",
    "    X_val -= mean_image\n",
    "    X_test -= mean_image\n",
    "    X_dev -= mean_image\n",
    "    \n",
    "    # add bias dimension and transform into columns\n",
    "    X_train = np.hstack([X_train, np.ones((X_train.shape[0], 1))])\n",
    "    X_val = np.hstack([X_val, np.ones((X_val.shape[0], 1))])\n",
    "    X_test = np.hstack([X_test, np.ones((X_test.shape[0], 1))])\n",
    "    X_dev = np.hstack([X_dev, np.ones((X_dev.shape[0], 1))])\n",
    "    \n",
    "    return X_train, y_train, X_val, y_val, X_test, y_test, X_dev, y_dev\n",
    "\n",
    "\n",
    "# Invoke the above function to get our data.\n",
    "X_train, y_train, X_val, y_val, X_test, y_test, X_dev, y_dev = get_CIFAR10_data()\n",
    "print('Train data shape: ', X_train.shape)\n",
    "print('Train labels shape: ', y_train.shape)\n",
    "print('Validation data shape: ', X_val.shape)\n",
    "print('Validation labels shape: ', y_val.shape)\n",
    "print('Test data shape: ', X_test.shape)\n",
    "print('Test labels shape: ', y_test.shape)\n",
    "print('dev data shape: ', X_dev.shape)\n",
    "print('dev labels shape: ', y_dev.shape)"
   ]
  },
  {
   "cell_type": "markdown",
   "metadata": {},
   "source": [
    "## Softmax Classifier\n",
    "\n",
    "Your code for this section will all be written inside **cs231n/classifiers/softmax.py**. \n"
   ]
  },
  {
   "cell_type": "code",
   "execution_count": 63,
   "metadata": {
    "collapsed": false
   },
   "outputs": [
    {
     "name": "stdout",
     "output_type": "stream",
     "text": [
      "loss: 2.342335\n",
      "sanity check: 2.302585\n"
     ]
    }
   ],
   "source": [
    "# First implement the naive softmax loss function with nested loops.\n",
    "# Open the file cs231n/classifiers/softmax.py and implement the\n",
    "# softmax_loss_naive function.\n",
    "\n",
    "from cs231n.classifiers.softmax import softmax_loss_naive\n",
    "import time\n",
    "\n",
    "# Generate a random softmax weight matrix and use it to compute the loss.\n",
    "W = np.random.randn(3073, 10) * 0.0001\n",
    "loss, grad = softmax_loss_naive(W, X_dev, y_dev, 0.0)\n",
    "\n",
    "# As a rough sanity check, our loss should be something close to -log(0.1).\n",
    "print('loss: %f' % loss)\n",
    "print('sanity check: %f' % (-np.log(0.1)))"
   ]
  },
  {
   "cell_type": "markdown",
   "metadata": {},
   "source": [
    "## Inline Question 1:\n",
    "Why do we expect our loss to be close to -log(0.1)? Explain briefly.**\n",
    "\n",
    "**Your answer:** *Fill this in*\n"
   ]
  },
  {
   "cell_type": "code",
   "execution_count": 68,
   "metadata": {
    "collapsed": false
   },
   "outputs": [
    {
     "name": "stdout",
     "output_type": "stream",
     "text": [
      "numerical: 0.464582 analytic: 0.522215, relative error: 5.840430e-02\n",
      "numerical: -3.039617 analytic: -2.646184, relative error: 6.919579e-02\n",
      "numerical: -0.761070 analytic: -0.689735, relative error: 4.916904e-02\n",
      "numerical: 0.829401 analytic: 0.801398, relative error: 1.717135e-02\n",
      "numerical: 1.722478 analytic: 1.790696, relative error: 1.941797e-02\n",
      "numerical: 1.167577 analytic: 0.985451, relative error: 8.459037e-02\n",
      "numerical: 0.485673 analytic: 0.512696, relative error: 2.706792e-02\n",
      "numerical: 1.446178 analytic: 1.769439, relative error: 1.005286e-01\n",
      "numerical: -0.662422 analytic: -0.682398, relative error: 1.485371e-02\n",
      "numerical: -0.226256 analytic: -0.233273, relative error: 1.526993e-02\n",
      "numerical: 1.325383 analytic: 1.427190, relative error: 3.698634e-02\n",
      "numerical: 2.040425 analytic: 2.021684, relative error: 4.613588e-03\n",
      "numerical: 0.776863 analytic: 0.838949, relative error: 3.842429e-02\n",
      "numerical: 0.324298 analytic: 0.568562, relative error: 2.735744e-01\n",
      "numerical: 0.260022 analytic: 0.289409, relative error: 5.348499e-02\n",
      "numerical: -1.580086 analytic: -1.650490, relative error: 2.179310e-02\n",
      "numerical: -0.909808 analytic: -1.108540, relative error: 9.846265e-02\n",
      "numerical: 3.107713 analytic: 3.520246, relative error: 6.224142e-02\n",
      "numerical: -0.104975 analytic: -0.113330, relative error: 3.827190e-02\n",
      "numerical: -0.075360 analytic: -0.063633, relative error: 8.436862e-02\n"
     ]
    }
   ],
   "source": [
    "# Complete the implementation of softmax_loss_naive and implement a (naive)\n",
    "# version of the gradient that uses nested loops.\n",
    "loss, grad = softmax_loss_naive(W, X_dev, y_dev, 0.0)\n",
    "\n",
    "# As we did for the SVM, use numeric gradient checking as a debugging tool.\n",
    "# The numeric gradient should be close to the analytic gradient.\n",
    "from cs231n.gradient_check import grad_check_sparse\n",
    "f = lambda w: softmax_loss_naive(w, X_dev, y_dev, 0.0)[0]\n",
    "grad_numerical = grad_check_sparse(f, W, grad, 10)\n",
    "\n",
    "# similar to SVM case, do another gradient check with regularization\n",
    "loss, grad = softmax_loss_naive(W, X_dev, y_dev, 5e1)\n",
    "f = lambda w: softmax_loss_naive(w, X_dev, y_dev, 5e1)[0]\n",
    "grad_numerical = grad_check_sparse(f, W, grad, 10)"
   ]
  },
  {
   "cell_type": "code",
   "execution_count": 85,
   "metadata": {
    "collapsed": false
   },
   "outputs": [
    {
     "name": "stdout",
     "output_type": "stream",
     "text": [
      "naive loss: 2.342335e+00 computed in 0.098629s\n",
      "vectorized loss: 2.342335e+00 computed in 0.003275s\n",
      "Loss difference: 0.000000\n",
      "Gradient difference: 0.000000\n"
     ]
    }
   ],
   "source": [
    "# Now that we have a naive implementation of the softmax loss function and its gradient,\n",
    "# implement a vectorized version in softmax_loss_vectorized.\n",
    "# The two versions should compute the same results, but the vectorized version should be\n",
    "# much faster.\n",
    "tic = time.time()\n",
    "loss_naive, grad_naive = softmax_loss_naive(W, X_dev, y_dev, 0.000005)\n",
    "toc = time.time()\n",
    "print('naive loss: %e computed in %fs' % (loss_naive, toc - tic))\n",
    "\n",
    "from cs231n.classifiers.softmax import softmax_loss_vectorized\n",
    "tic = time.time()\n",
    "loss_vectorized, grad_vectorized = softmax_loss_vectorized(W, X_dev, y_dev, 0.000005)\n",
    "toc = time.time()\n",
    "print('vectorized loss: %e computed in %fs' % (loss_vectorized, toc - tic))\n",
    "\n",
    "# As we did for the SVM, we use the Frobenius norm to compare the two versions\n",
    "# of the gradient.\n",
    "grad_difference = np.linalg.norm(grad_naive - grad_vectorized, ord='fro')\n",
    "print('Loss difference: %f' % np.abs(loss_naive - loss_vectorized))\n",
    "print('Gradient difference: %f' % grad_difference)"
   ]
  },
  {
   "cell_type": "code",
   "execution_count": 92,
   "metadata": {
    "collapsed": false
   },
   "outputs": [
    {
     "name": "stdout",
     "output_type": "stream",
     "text": [
      "iteration 0 / 3000: loss 777.526226\n",
      "iteration 100 / 3000: loss 285.178858\n",
      "iteration 200 / 3000: loss 105.706268\n",
      "iteration 300 / 3000: loss 40.058910\n",
      "iteration 400 / 3000: loss 16.039408\n",
      "iteration 500 / 3000: loss 7.105807\n",
      "iteration 600 / 3000: loss 3.928495\n",
      "iteration 700 / 3000: loss 2.788187\n",
      "iteration 800 / 3000: loss 2.386995\n",
      "iteration 900 / 3000: loss 2.263328\n",
      "iteration 1000 / 3000: loss 2.141770\n",
      "iteration 1100 / 3000: loss 2.147280\n",
      "iteration 1200 / 3000: loss 2.111517\n",
      "iteration 1300 / 3000: loss 2.090987\n",
      "iteration 1400 / 3000: loss 2.172786\n",
      "iteration 1500 / 3000: loss 2.066375\n",
      "iteration 1600 / 3000: loss 2.070373\n",
      "iteration 1700 / 3000: loss 2.167897\n",
      "iteration 1800 / 3000: loss 2.074916\n",
      "iteration 1900 / 3000: loss 2.180960\n",
      "iteration 2000 / 3000: loss 2.115745\n",
      "iteration 2100 / 3000: loss 2.174897\n",
      "iteration 2200 / 3000: loss 2.175744\n",
      "iteration 2300 / 3000: loss 2.048722\n",
      "iteration 2400 / 3000: loss 2.135668\n",
      "iteration 2500 / 3000: loss 2.141991\n",
      "iteration 2600 / 3000: loss 2.109323\n",
      "iteration 2700 / 3000: loss 2.087648\n",
      "iteration 2800 / 3000: loss 2.184826\n",
      "iteration 2900 / 3000: loss 2.136470\n",
      "iteration 0 / 3000: loss 1552.078314\n",
      "iteration 100 / 3000: loss 209.359730\n",
      "iteration 200 / 3000: loss 29.892356\n",
      "iteration 300 / 3000: loss 5.891876\n",
      "iteration 400 / 3000: loss 2.628452\n",
      "iteration 500 / 3000: loss 2.170928\n",
      "iteration 600 / 3000: loss 2.174757\n",
      "iteration 700 / 3000: loss 2.155463\n",
      "iteration 800 / 3000: loss 2.214680\n",
      "iteration 900 / 3000: loss 2.184437\n",
      "iteration 1000 / 3000: loss 2.143061\n",
      "iteration 1100 / 3000: loss 2.177218\n",
      "iteration 1200 / 3000: loss 2.169527\n",
      "iteration 1300 / 3000: loss 2.171152\n",
      "iteration 1400 / 3000: loss 2.190588\n",
      "iteration 1500 / 3000: loss 2.143465\n",
      "iteration 1600 / 3000: loss 2.132678\n",
      "iteration 1700 / 3000: loss 2.163260\n",
      "iteration 1800 / 3000: loss 2.100827\n",
      "iteration 1900 / 3000: loss 2.129196\n",
      "iteration 2000 / 3000: loss 2.139906\n",
      "iteration 2100 / 3000: loss 2.106388\n",
      "iteration 2200 / 3000: loss 2.145943\n",
      "iteration 2300 / 3000: loss 2.141392\n",
      "iteration 2400 / 3000: loss 2.134640\n",
      "iteration 2500 / 3000: loss 2.170131\n",
      "iteration 2600 / 3000: loss 2.115173\n",
      "iteration 2700 / 3000: loss 2.168329\n",
      "iteration 2800 / 3000: loss 2.169768\n",
      "iteration 2900 / 3000: loss 2.167785\n",
      "iteration 0 / 3000: loss 773.346669\n",
      "iteration 100 / 3000: loss 6.854847\n",
      "iteration 200 / 3000: loss 2.174147\n",
      "iteration 300 / 3000: loss 2.076275\n",
      "iteration 400 / 3000: loss 2.081104\n",
      "iteration 500 / 3000: loss 2.054149\n",
      "iteration 600 / 3000: loss 2.126250\n",
      "iteration 700 / 3000: loss 2.094483\n",
      "iteration 800 / 3000: loss 2.039458\n",
      "iteration 900 / 3000: loss 2.139984\n",
      "iteration 1000 / 3000: loss 2.106775\n",
      "iteration 1100 / 3000: loss 2.124271\n",
      "iteration 1200 / 3000: loss 2.114487\n",
      "iteration 1300 / 3000: loss 2.266265\n",
      "iteration 1400 / 3000: loss 2.061275\n",
      "iteration 1500 / 3000: loss 2.151746\n",
      "iteration 1600 / 3000: loss 2.120025\n",
      "iteration 1700 / 3000: loss 2.144269\n",
      "iteration 1800 / 3000: loss 2.116160\n",
      "iteration 1900 / 3000: loss 2.138224\n",
      "iteration 2000 / 3000: loss 2.056498\n",
      "iteration 2100 / 3000: loss 2.099796\n",
      "iteration 2200 / 3000: loss 2.149328\n",
      "iteration 2300 / 3000: loss 2.089602\n",
      "iteration 2400 / 3000: loss 2.147662\n",
      "iteration 2500 / 3000: loss 2.144981\n",
      "iteration 2600 / 3000: loss 2.083589\n",
      "iteration 2700 / 3000: loss 2.123002\n",
      "iteration 2800 / 3000: loss 2.229377\n",
      "iteration 2900 / 3000: loss 2.171611\n",
      "iteration 0 / 3000: loss 1556.361383\n",
      "iteration 100 / 3000: loss 2.245028\n",
      "iteration 200 / 3000: loss 2.199566\n",
      "iteration 300 / 3000: loss 2.146104\n",
      "iteration 400 / 3000: loss 2.160340\n",
      "iteration 500 / 3000: loss 2.150462\n",
      "iteration 600 / 3000: loss 2.172065\n",
      "iteration 700 / 3000: loss 2.179889\n",
      "iteration 800 / 3000: loss 2.136662\n",
      "iteration 900 / 3000: loss 2.184629\n",
      "iteration 1000 / 3000: loss 2.163436\n",
      "iteration 1100 / 3000: loss 2.151057\n",
      "iteration 1200 / 3000: loss 2.159926\n",
      "iteration 1300 / 3000: loss 2.144194\n",
      "iteration 1400 / 3000: loss 2.184409\n",
      "iteration 1500 / 3000: loss 2.137790\n",
      "iteration 1600 / 3000: loss 2.154245\n",
      "iteration 1700 / 3000: loss 2.106861\n",
      "iteration 1800 / 3000: loss 2.216358\n",
      "iteration 1900 / 3000: loss 2.133957\n",
      "iteration 2000 / 3000: loss 2.158255\n",
      "iteration 2100 / 3000: loss 2.209647\n",
      "iteration 2200 / 3000: loss 2.182174\n",
      "iteration 2300 / 3000: loss 2.142520\n",
      "iteration 2400 / 3000: loss 2.233666\n",
      "iteration 2500 / 3000: loss 2.209236\n",
      "iteration 2600 / 3000: loss 2.125903\n",
      "iteration 2700 / 3000: loss 2.157063\n",
      "iteration 2800 / 3000: loss 2.179789\n",
      "iteration 2900 / 3000: loss 2.139388\n",
      "lr 1.000000e-07 reg 2.500000e+04 train accuracy: 0.324224 val accuracy: 0.337000\n",
      "lr 1.000000e-07 reg 5.000000e+04 train accuracy: 0.306041 val accuracy: 0.331000\n",
      "lr 5.000000e-07 reg 2.500000e+04 train accuracy: 0.320122 val accuracy: 0.332000\n",
      "lr 5.000000e-07 reg 5.000000e+04 train accuracy: 0.290388 val accuracy: 0.300000\n",
      "best validation accuracy achieved during cross-validation: 0.337000\n"
     ]
    }
   ],
   "source": [
    "# Use the validation set to tune hyperparameters (regularization strength and\n",
    "# learning rate). You should experiment with different ranges for the learning\n",
    "# rates and regularization strengths; if you are careful you should be able to\n",
    "# get a classification accuracy of over 0.35 on the validation set.\n",
    "from cs231n.classifiers import Softmax\n",
    "results = {}\n",
    "best_val = -1\n",
    "best_softmax = None\n",
    "learning_rates = [1e-7, 5e-7]\n",
    "regularization_strengths = [2.5e4, 5e4]\n",
    "\n",
    "################################################################################\n",
    "# TODO:                                                                        #\n",
    "# Use the validation set to set the learning rate and regularization strength. #\n",
    "# This should be identical to the validation that you did for the SVM; save    #\n",
    "# the best trained softmax classifer in best_softmax.                          #\n",
    "################################################################################\n",
    "for learning_rate in learning_rates:\n",
    "    for regularization_strength in regularization_strengths:\n",
    "        smax = Softmax()\n",
    "        smax.train(X_train, y_train, learning_rate=learning_rate, reg=regularization_strength,\n",
    "                   num_iters=3000, verbose=True)\n",
    "        y_train_pred = smax.predict(X_train)\n",
    "        training_accuracy = np.mean(y_train == y_train_pred)\n",
    "        \n",
    "        y_val_pred = smax.predict(X_val)\n",
    "        validation_accuracy = np.mean(y_val == y_val_pred)\n",
    "        if validation_accuracy > best_val:\n",
    "            best_val = validation_accuracy\n",
    "            best_softmax = smax\n",
    "        \n",
    "        results[(learning_rate, regularization_strength)] = (training_accuracy, validation_accuracy)\n",
    "\n",
    "################################################################################\n",
    "#                              END OF YOUR CODE                                #\n",
    "################################################################################\n",
    "    \n",
    "# Print out results.\n",
    "for lr, reg in sorted(results):\n",
    "    train_accuracy, val_accuracy = results[(lr, reg)]\n",
    "    print('lr %e reg %e train accuracy: %f val accuracy: %f' % (\n",
    "                lr, reg, train_accuracy, val_accuracy))\n",
    "    \n",
    "print('best validation accuracy achieved during cross-validation: %f' % best_val)"
   ]
  },
  {
   "cell_type": "code",
   "execution_count": 90,
   "metadata": {
    "collapsed": false
   },
   "outputs": [
    {
     "name": "stdout",
     "output_type": "stream",
     "text": [
      "softmax on raw pixels final test set accuracy: 0.342000\n"
     ]
    }
   ],
   "source": [
    "# evaluate on test set\n",
    "# Evaluate the best softmax on test set\n",
    "y_test_pred = best_softmax.predict(X_test)\n",
    "test_accuracy = np.mean(y_test == y_test_pred)\n",
    "print('softmax on raw pixels final test set accuracy: %f' % (test_accuracy, ))"
   ]
  },
  {
   "cell_type": "code",
   "execution_count": 91,
   "metadata": {
    "collapsed": false
   },
   "outputs": [
    {
     "data": {
      "image/png": "[encoded data removed]",
      "text/plain": [
       "<matplotlib.figure.Figure at 0x10e797090>"
      ]
     },
     "metadata": {},
     "output_type": "display_data"
    }
   ],
   "source": [
    "# Visualize the learned weights for each class\n",
    "w = best_softmax.W[:-1,:] # strip out the bias\n",
    "w = w.reshape(32, 32, 3, 10)\n",
    "\n",
    "w_min, w_max = np.min(w), np.max(w)\n",
    "\n",
    "classes = ['plane', 'car', 'bird', 'cat', 'deer', 'dog', 'frog', 'horse', 'ship', 'truck']\n",
    "for i in range(10):\n",
    "    plt.subplot(2, 5, i + 1)\n",
    "    \n",
    "    # Rescale the weights to be between 0 and 255\n",
    "    wimg = 255.0 * (w[:, :, :, i].squeeze() - w_min) / (w_max - w_min)\n",
    "    plt.imshow(wimg.astype('uint8'))\n",
    "    plt.axis('off')\n",
    "    plt.title(classes[i])"
   ]
  },
  {
   "cell_type": "code",
   "execution_count": null,
   "metadata": {
    "collapsed": true
   },
   "outputs": [],
   "source": []
  }
 ],
 "metadata": {
  "kernelspec": {
   "display_name": "Python [default]",
   "language": "python",
   "name": "python2"
  },
  "language_info": {
   "codemirror_mode": {
    "name": "ipython",
    "version": 2
   },
   "file_extension": ".py",
   "mimetype": "text/x-python",
   "name": "python",
   "nbconvert_exporter": "python",
   "pygments_lexer": "ipython2",
   "version": "2.7.12"
  }
 },
 "nbformat": 4,
 "nbformat_minor": 0
}
